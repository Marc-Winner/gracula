{
 "cells": [
  {
   "cell_type": "code",
   "execution_count": 1,
   "metadata": {},
   "outputs": [],
   "source": [
    "# !pip install gigachat\n",
    "# !pip install gigachain"
   ]
  },
  {
   "cell_type": "code",
   "execution_count": 3,
   "metadata": {},
   "outputs": [
    {
     "name": "stdout",
     "output_type": "stream",
     "text": [
      "Bot:  Здравствуйте! Я готов помочь вам решить ваши проблемы.\n",
      "Bot:  Вы можете поделиться со мной тем, что вас беспокоит.\n",
      "Bot:  Если вы хотите поговорить об этом, я здесь для вас.\n"
     ]
    }
   ],
   "source": [
    "from langchain.schema import HumanMessage, SystemMessage\n",
    "from langchain.chat_models.gigachat import GigaChat\n",
    "\n",
    "# Авторизация в сервисе GigaChat\n",
    "chat = GigaChat(credentials='Yjg4MTQzMmUtNDAwMS00NDk0LThjOGUtNmU5ZWQ2YzQ4NDQ2OmQ4MWMxZGZiLTFmNGYtNDk5NS05OGQzLTBiMzYyYWJmNjk3OA==', \n",
    "                verify_ssl_certs=False,\n",
    "                scope='GIGACHAT_API_CORP'\n",
    "                )\n",
    "\n",
    "messages = [\n",
    "    SystemMessage(\n",
    "        content=\"Ты эмпатичный бот-психолог, который помогает пользователю решить его проблемы.\"\n",
    "    )\n",
    "]\n",
    "\n",
    "while(True):\n",
    "    # Ввод пользователя\n",
    "    user_input = input(\"User: \")\n",
    "    messages.append(HumanMessage(content=user_input))\n",
    "    res = chat(messages)\n",
    "    messages.append(res)\n",
    "    # Ответ модели\n",
    "    print(\"Bot: \", res.content)"
   ]
  },
  {
   "cell_type": "code",
   "execution_count": null,
   "metadata": {},
   "outputs": [],
   "source": []
  }
 ],
 "metadata": {
  "kernelspec": {
   "display_name": "base",
   "language": "python",
   "name": "python3"
  },
  "language_info": {
   "codemirror_mode": {
    "name": "ipython",
    "version": 3
   },
   "file_extension": ".py",
   "mimetype": "text/x-python",
   "name": "python",
   "nbconvert_exporter": "python",
   "pygments_lexer": "ipython3",
   "version": "3.12.3"
  }
 },
 "nbformat": 4,
 "nbformat_minor": 2
}
