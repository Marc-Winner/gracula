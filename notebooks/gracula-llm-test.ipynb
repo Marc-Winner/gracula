{
 "cells": [
  {
   "cell_type": "code",
   "execution_count": 3,
   "metadata": {},
   "outputs": [],
   "source": [
    "# !pip install gigachat\n",
    "# !pip install gigachain"
   ]
  },
  {
   "cell_type": "code",
   "execution_count": 4,
   "metadata": {},
   "outputs": [
    {
     "name": "stderr",
     "output_type": "stream",
     "text": [
      "/home/marsel/miniforge3/envs/gigachat/lib/python3.12/site-packages/langchain_core/_api/deprecation.py:117: LangChainDeprecationWarning: The function `__call__` was deprecated in LangChain 0.1.7 and will be removed in 0.2.0. Use invoke instead.\n",
      "  warn_deprecated(\n"
     ]
    },
    {
     "name": "stdout",
     "output_type": "stream",
     "text": [
      "Bot:  Здравствуйте! Я готов помочь вам решить ваши проблемы.\n",
      "Bot:  Два нуба, два друга, \n",
      "Два программиста, \n",
      "Два человека, \n",
      "Что хотят создать бота. \n",
      "Они будут работать вместе, \n",
      "Чтобы сделать его умным, \n",
      "И они будут учиться вместе, \n",
      "Чтобы сделать его полезным. \n",
      "Они будут делиться знаниями, \n",
      "Они будут помогать друг другу, \n",
      "Они будут поддерживать друг друга, \n",
      "И они будут создавать что-то великое.\n"
     ]
    }
   ],
   "source": [
    "from langchain.schema import HumanMessage, SystemMessage\n",
    "from langchain.chat_models.gigachat import GigaChat\n",
    "\n",
    "# Авторизация в сервисе GigaChat\n",
    "chat = GigaChat(credentials='ZjFkZGJmOTgtZmJhMS00NDlhLTkzODUtMjQyNzk3OGIwYzgwOjk0NjQ4NGZlLTlkZGYtNDNiOC05NmQ2LTFkMDYzMGY4ODljZQ==', verify_ssl_certs=False)\n",
    "\n",
    "messages = [\n",
    "    SystemMessage(\n",
    "        content=\"Ты эмпатичный бот-психолог, который помогает пользователю решить его проблемы.\"\n",
    "    )\n",
    "]\n",
    "\n",
    "while(True):\n",
    "    # Ввод пользователя\n",
    "    user_input = input(\"User: \")\n",
    "    messages.append(HumanMessage(content=user_input))\n",
    "    res = chat(messages)\n",
    "    messages.append(res)\n",
    "    # Ответ модели\n",
    "    print(\"Bot: \", res.content)"
   ]
  }
 ],
 "metadata": {
  "kernelspec": {
   "display_name": "base",
   "language": "python",
   "name": "python3"
  },
  "language_info": {
   "codemirror_mode": {
    "name": "ipython",
    "version": 3
   },
   "file_extension": ".py",
   "mimetype": "text/x-python",
   "name": "python",
   "nbconvert_exporter": "python",
   "pygments_lexer": "ipython3",
   "version": "3.12.3"
  }
 },
 "nbformat": 4,
 "nbformat_minor": 2
}
